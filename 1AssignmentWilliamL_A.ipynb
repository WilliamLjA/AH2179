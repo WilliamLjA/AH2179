{
  "nbformat": 4,
  "nbformat_minor": 0,
  "metadata": {
    "colab": {
      "provenance": []
    },
    "kernelspec": {
      "name": "python3",
      "display_name": "Python 3"
    },
    "language_info": {
      "name": "python"
    }
  },
  "cells": [
    {
      "cell_type": "markdown",
      "source": [
        "Hand-In Assignment 1 Submission\n",
        "Assignment task: Use regression models to predict bus arrival delays."
      ],
      "metadata": {
        "id": "jTG3qbq82Vw_"
      }
    },
    {
      "cell_type": "markdown",
      "source": [
        "**Load and prepare the data**"
      ],
      "metadata": {
        "id": "pNLytmCK3kyf"
      }
    },
    {
      "cell_type": "code",
      "source": [
        "#code from tutorial\n",
        "import pandas as pd\n",
        "\n",
        "url = 'https://raw.githubusercontent.com/zhenliangma/Applied-AI-in-Transportation/master/Exercise_2_regression_model/Exercise2BusData.csv'\n",
        "df = pd.read_csv(url)\n",
        "\n",
        "# df = pd.read_csv('Exercise2BusData.csv')\n",
        "df.head(10)"
      ],
      "metadata": {
        "colab": {
          "base_uri": "https://localhost:8080/",
          "height": 363
        },
        "id": "SDn0YHOz3C91",
        "outputId": "99e939e7-f703-4215-c162-1f1476ff6054"
      },
      "execution_count": 1,
      "outputs": [
        {
          "output_type": "execute_result",
          "data": {
            "text/plain": [
              "       Arrival_time  Stop_id  Bus_id  Line_id  Arrival_delay  Dwell_time  \\\n",
              "0  01/05/2022 07:03    10033   41355        1            -23           0   \n",
              "1  01/05/2022 07:21    10033   41356        1            168           0   \n",
              "2  01/05/2022 07:37    10033   44400        1            231           0   \n",
              "3  01/05/2022 07:50    10033   44399        1            150          17   \n",
              "4  01/05/2022 19:29    10033   44060        1            965          35   \n",
              "5  01/05/2022 19:58    10033   41351        1             33          19   \n",
              "6  01/05/2022 20:14    10033   44399        1             75          26   \n",
              "7  01/05/2022 20:28    10033   41356        1             58          15   \n",
              "8  01/05/2022 20:57    10033   44060        1            904          35   \n",
              "9  01/05/2022 21:00    10033   41357        1            141          12   \n",
              "\n",
              "   Scheduled_travel_time  Upstream_stop_delay  Recurrent_delay  \n",
              "0                     39                   -4        28.641509  \n",
              "1                     39                  181        27.880597  \n",
              "2                     39                  244        27.852941  \n",
              "3                     39                  143        27.826087  \n",
              "4                     51                  947        42.029412  \n",
              "5                     46                   30        38.970588  \n",
              "6                     46                   63        38.840580  \n",
              "7                     46                   52        34.059701  \n",
              "8                     46                  888        34.102941  \n",
              "9                     46                  140        34.000000  "
            ],
            "text/html": [
              "\n",
              "  <div id=\"df-f3627da4-37a8-4747-ad23-686be34b247d\" class=\"colab-df-container\">\n",
              "    <div>\n",
              "<style scoped>\n",
              "    .dataframe tbody tr th:only-of-type {\n",
              "        vertical-align: middle;\n",
              "    }\n",
              "\n",
              "    .dataframe tbody tr th {\n",
              "        vertical-align: top;\n",
              "    }\n",
              "\n",
              "    .dataframe thead th {\n",
              "        text-align: right;\n",
              "    }\n",
              "</style>\n",
              "<table border=\"1\" class=\"dataframe\">\n",
              "  <thead>\n",
              "    <tr style=\"text-align: right;\">\n",
              "      <th></th>\n",
              "      <th>Arrival_time</th>\n",
              "      <th>Stop_id</th>\n",
              "      <th>Bus_id</th>\n",
              "      <th>Line_id</th>\n",
              "      <th>Arrival_delay</th>\n",
              "      <th>Dwell_time</th>\n",
              "      <th>Scheduled_travel_time</th>\n",
              "      <th>Upstream_stop_delay</th>\n",
              "      <th>Recurrent_delay</th>\n",
              "    </tr>\n",
              "  </thead>\n",
              "  <tbody>\n",
              "    <tr>\n",
              "      <th>0</th>\n",
              "      <td>01/05/2022 07:03</td>\n",
              "      <td>10033</td>\n",
              "      <td>41355</td>\n",
              "      <td>1</td>\n",
              "      <td>-23</td>\n",
              "      <td>0</td>\n",
              "      <td>39</td>\n",
              "      <td>-4</td>\n",
              "      <td>28.641509</td>\n",
              "    </tr>\n",
              "    <tr>\n",
              "      <th>1</th>\n",
              "      <td>01/05/2022 07:21</td>\n",
              "      <td>10033</td>\n",
              "      <td>41356</td>\n",
              "      <td>1</td>\n",
              "      <td>168</td>\n",
              "      <td>0</td>\n",
              "      <td>39</td>\n",
              "      <td>181</td>\n",
              "      <td>27.880597</td>\n",
              "    </tr>\n",
              "    <tr>\n",
              "      <th>2</th>\n",
              "      <td>01/05/2022 07:37</td>\n",
              "      <td>10033</td>\n",
              "      <td>44400</td>\n",
              "      <td>1</td>\n",
              "      <td>231</td>\n",
              "      <td>0</td>\n",
              "      <td>39</td>\n",
              "      <td>244</td>\n",
              "      <td>27.852941</td>\n",
              "    </tr>\n",
              "    <tr>\n",
              "      <th>3</th>\n",
              "      <td>01/05/2022 07:50</td>\n",
              "      <td>10033</td>\n",
              "      <td>44399</td>\n",
              "      <td>1</td>\n",
              "      <td>150</td>\n",
              "      <td>17</td>\n",
              "      <td>39</td>\n",
              "      <td>143</td>\n",
              "      <td>27.826087</td>\n",
              "    </tr>\n",
              "    <tr>\n",
              "      <th>4</th>\n",
              "      <td>01/05/2022 19:29</td>\n",
              "      <td>10033</td>\n",
              "      <td>44060</td>\n",
              "      <td>1</td>\n",
              "      <td>965</td>\n",
              "      <td>35</td>\n",
              "      <td>51</td>\n",
              "      <td>947</td>\n",
              "      <td>42.029412</td>\n",
              "    </tr>\n",
              "    <tr>\n",
              "      <th>5</th>\n",
              "      <td>01/05/2022 19:58</td>\n",
              "      <td>10033</td>\n",
              "      <td>41351</td>\n",
              "      <td>1</td>\n",
              "      <td>33</td>\n",
              "      <td>19</td>\n",
              "      <td>46</td>\n",
              "      <td>30</td>\n",
              "      <td>38.970588</td>\n",
              "    </tr>\n",
              "    <tr>\n",
              "      <th>6</th>\n",
              "      <td>01/05/2022 20:14</td>\n",
              "      <td>10033</td>\n",
              "      <td>44399</td>\n",
              "      <td>1</td>\n",
              "      <td>75</td>\n",
              "      <td>26</td>\n",
              "      <td>46</td>\n",
              "      <td>63</td>\n",
              "      <td>38.840580</td>\n",
              "    </tr>\n",
              "    <tr>\n",
              "      <th>7</th>\n",
              "      <td>01/05/2022 20:28</td>\n",
              "      <td>10033</td>\n",
              "      <td>41356</td>\n",
              "      <td>1</td>\n",
              "      <td>58</td>\n",
              "      <td>15</td>\n",
              "      <td>46</td>\n",
              "      <td>52</td>\n",
              "      <td>34.059701</td>\n",
              "    </tr>\n",
              "    <tr>\n",
              "      <th>8</th>\n",
              "      <td>01/05/2022 20:57</td>\n",
              "      <td>10033</td>\n",
              "      <td>44060</td>\n",
              "      <td>1</td>\n",
              "      <td>904</td>\n",
              "      <td>35</td>\n",
              "      <td>46</td>\n",
              "      <td>888</td>\n",
              "      <td>34.102941</td>\n",
              "    </tr>\n",
              "    <tr>\n",
              "      <th>9</th>\n",
              "      <td>01/05/2022 21:00</td>\n",
              "      <td>10033</td>\n",
              "      <td>41357</td>\n",
              "      <td>1</td>\n",
              "      <td>141</td>\n",
              "      <td>12</td>\n",
              "      <td>46</td>\n",
              "      <td>140</td>\n",
              "      <td>34.000000</td>\n",
              "    </tr>\n",
              "  </tbody>\n",
              "</table>\n",
              "</div>\n",
              "    <div class=\"colab-df-buttons\">\n",
              "\n",
              "  <div class=\"colab-df-container\">\n",
              "    <button class=\"colab-df-convert\" onclick=\"convertToInteractive('df-f3627da4-37a8-4747-ad23-686be34b247d')\"\n",
              "            title=\"Convert this dataframe to an interactive table.\"\n",
              "            style=\"display:none;\">\n",
              "\n",
              "  <svg xmlns=\"http://www.w3.org/2000/svg\" height=\"24px\" viewBox=\"0 -960 960 960\">\n",
              "    <path d=\"M120-120v-720h720v720H120Zm60-500h600v-160H180v160Zm220 220h160v-160H400v160Zm0 220h160v-160H400v160ZM180-400h160v-160H180v160Zm440 0h160v-160H620v160ZM180-180h160v-160H180v160Zm440 0h160v-160H620v160Z\"/>\n",
              "  </svg>\n",
              "    </button>\n",
              "\n",
              "  <style>\n",
              "    .colab-df-container {\n",
              "      display:flex;\n",
              "      gap: 12px;\n",
              "    }\n",
              "\n",
              "    .colab-df-convert {\n",
              "      background-color: #E8F0FE;\n",
              "      border: none;\n",
              "      border-radius: 50%;\n",
              "      cursor: pointer;\n",
              "      display: none;\n",
              "      fill: #1967D2;\n",
              "      height: 32px;\n",
              "      padding: 0 0 0 0;\n",
              "      width: 32px;\n",
              "    }\n",
              "\n",
              "    .colab-df-convert:hover {\n",
              "      background-color: #E2EBFA;\n",
              "      box-shadow: 0px 1px 2px rgba(60, 64, 67, 0.3), 0px 1px 3px 1px rgba(60, 64, 67, 0.15);\n",
              "      fill: #174EA6;\n",
              "    }\n",
              "\n",
              "    .colab-df-buttons div {\n",
              "      margin-bottom: 4px;\n",
              "    }\n",
              "\n",
              "    [theme=dark] .colab-df-convert {\n",
              "      background-color: #3B4455;\n",
              "      fill: #D2E3FC;\n",
              "    }\n",
              "\n",
              "    [theme=dark] .colab-df-convert:hover {\n",
              "      background-color: #434B5C;\n",
              "      box-shadow: 0px 1px 3px 1px rgba(0, 0, 0, 0.15);\n",
              "      filter: drop-shadow(0px 1px 2px rgba(0, 0, 0, 0.3));\n",
              "      fill: #FFFFFF;\n",
              "    }\n",
              "  </style>\n",
              "\n",
              "    <script>\n",
              "      const buttonEl =\n",
              "        document.querySelector('#df-f3627da4-37a8-4747-ad23-686be34b247d button.colab-df-convert');\n",
              "      buttonEl.style.display =\n",
              "        google.colab.kernel.accessAllowed ? 'block' : 'none';\n",
              "\n",
              "      async function convertToInteractive(key) {\n",
              "        const element = document.querySelector('#df-f3627da4-37a8-4747-ad23-686be34b247d');\n",
              "        const dataTable =\n",
              "          await google.colab.kernel.invokeFunction('convertToInteractive',\n",
              "                                                    [key], {});\n",
              "        if (!dataTable) return;\n",
              "\n",
              "        const docLinkHtml = 'Like what you see? Visit the ' +\n",
              "          '<a target=\"_blank\" href=https://colab.research.google.com/notebooks/data_table.ipynb>data table notebook</a>'\n",
              "          + ' to learn more about interactive tables.';\n",
              "        element.innerHTML = '';\n",
              "        dataTable['output_type'] = 'display_data';\n",
              "        await google.colab.output.renderOutput(dataTable, element);\n",
              "        const docLink = document.createElement('div');\n",
              "        docLink.innerHTML = docLinkHtml;\n",
              "        element.appendChild(docLink);\n",
              "      }\n",
              "    </script>\n",
              "  </div>\n",
              "\n",
              "\n",
              "<div id=\"df-db964453-8ec1-448d-8efc-f9cde161eade\">\n",
              "  <button class=\"colab-df-quickchart\" onclick=\"quickchart('df-db964453-8ec1-448d-8efc-f9cde161eade')\"\n",
              "            title=\"Suggest charts\"\n",
              "            style=\"display:none;\">\n",
              "\n",
              "<svg xmlns=\"http://www.w3.org/2000/svg\" height=\"24px\"viewBox=\"0 0 24 24\"\n",
              "     width=\"24px\">\n",
              "    <g>\n",
              "        <path d=\"M19 3H5c-1.1 0-2 .9-2 2v14c0 1.1.9 2 2 2h14c1.1 0 2-.9 2-2V5c0-1.1-.9-2-2-2zM9 17H7v-7h2v7zm4 0h-2V7h2v10zm4 0h-2v-4h2v4z\"/>\n",
              "    </g>\n",
              "</svg>\n",
              "  </button>\n",
              "\n",
              "<style>\n",
              "  .colab-df-quickchart {\n",
              "      --bg-color: #E8F0FE;\n",
              "      --fill-color: #1967D2;\n",
              "      --hover-bg-color: #E2EBFA;\n",
              "      --hover-fill-color: #174EA6;\n",
              "      --disabled-fill-color: #AAA;\n",
              "      --disabled-bg-color: #DDD;\n",
              "  }\n",
              "\n",
              "  [theme=dark] .colab-df-quickchart {\n",
              "      --bg-color: #3B4455;\n",
              "      --fill-color: #D2E3FC;\n",
              "      --hover-bg-color: #434B5C;\n",
              "      --hover-fill-color: #FFFFFF;\n",
              "      --disabled-bg-color: #3B4455;\n",
              "      --disabled-fill-color: #666;\n",
              "  }\n",
              "\n",
              "  .colab-df-quickchart {\n",
              "    background-color: var(--bg-color);\n",
              "    border: none;\n",
              "    border-radius: 50%;\n",
              "    cursor: pointer;\n",
              "    display: none;\n",
              "    fill: var(--fill-color);\n",
              "    height: 32px;\n",
              "    padding: 0;\n",
              "    width: 32px;\n",
              "  }\n",
              "\n",
              "  .colab-df-quickchart:hover {\n",
              "    background-color: var(--hover-bg-color);\n",
              "    box-shadow: 0 1px 2px rgba(60, 64, 67, 0.3), 0 1px 3px 1px rgba(60, 64, 67, 0.15);\n",
              "    fill: var(--button-hover-fill-color);\n",
              "  }\n",
              "\n",
              "  .colab-df-quickchart-complete:disabled,\n",
              "  .colab-df-quickchart-complete:disabled:hover {\n",
              "    background-color: var(--disabled-bg-color);\n",
              "    fill: var(--disabled-fill-color);\n",
              "    box-shadow: none;\n",
              "  }\n",
              "\n",
              "  .colab-df-spinner {\n",
              "    border: 2px solid var(--fill-color);\n",
              "    border-color: transparent;\n",
              "    border-bottom-color: var(--fill-color);\n",
              "    animation:\n",
              "      spin 1s steps(1) infinite;\n",
              "  }\n",
              "\n",
              "  @keyframes spin {\n",
              "    0% {\n",
              "      border-color: transparent;\n",
              "      border-bottom-color: var(--fill-color);\n",
              "      border-left-color: var(--fill-color);\n",
              "    }\n",
              "    20% {\n",
              "      border-color: transparent;\n",
              "      border-left-color: var(--fill-color);\n",
              "      border-top-color: var(--fill-color);\n",
              "    }\n",
              "    30% {\n",
              "      border-color: transparent;\n",
              "      border-left-color: var(--fill-color);\n",
              "      border-top-color: var(--fill-color);\n",
              "      border-right-color: var(--fill-color);\n",
              "    }\n",
              "    40% {\n",
              "      border-color: transparent;\n",
              "      border-right-color: var(--fill-color);\n",
              "      border-top-color: var(--fill-color);\n",
              "    }\n",
              "    60% {\n",
              "      border-color: transparent;\n",
              "      border-right-color: var(--fill-color);\n",
              "    }\n",
              "    80% {\n",
              "      border-color: transparent;\n",
              "      border-right-color: var(--fill-color);\n",
              "      border-bottom-color: var(--fill-color);\n",
              "    }\n",
              "    90% {\n",
              "      border-color: transparent;\n",
              "      border-bottom-color: var(--fill-color);\n",
              "    }\n",
              "  }\n",
              "</style>\n",
              "\n",
              "  <script>\n",
              "    async function quickchart(key) {\n",
              "      const quickchartButtonEl =\n",
              "        document.querySelector('#' + key + ' button');\n",
              "      quickchartButtonEl.disabled = true;  // To prevent multiple clicks.\n",
              "      quickchartButtonEl.classList.add('colab-df-spinner');\n",
              "      try {\n",
              "        const charts = await google.colab.kernel.invokeFunction(\n",
              "            'suggestCharts', [key], {});\n",
              "      } catch (error) {\n",
              "        console.error('Error during call to suggestCharts:', error);\n",
              "      }\n",
              "      quickchartButtonEl.classList.remove('colab-df-spinner');\n",
              "      quickchartButtonEl.classList.add('colab-df-quickchart-complete');\n",
              "    }\n",
              "    (() => {\n",
              "      let quickchartButtonEl =\n",
              "        document.querySelector('#df-db964453-8ec1-448d-8efc-f9cde161eade button');\n",
              "      quickchartButtonEl.style.display =\n",
              "        google.colab.kernel.accessAllowed ? 'block' : 'none';\n",
              "    })();\n",
              "  </script>\n",
              "</div>\n",
              "\n",
              "    </div>\n",
              "  </div>\n"
            ],
            "application/vnd.google.colaboratory.intrinsic+json": {
              "type": "dataframe",
              "variable_name": "df",
              "summary": "{\n  \"name\": \"df\",\n  \"rows\": 2179,\n  \"fields\": [\n    {\n      \"column\": \"Arrival_time\",\n      \"properties\": {\n        \"dtype\": \"string\",\n        \"num_unique_values\": 2160,\n        \"samples\": [\n          \"28/05/2022 19:16\",\n          \"09/05/2022 22:13\",\n          \"28/05/2022 18:12\"\n        ],\n        \"semantic_type\": \"\",\n        \"description\": \"\"\n      }\n    },\n    {\n      \"column\": \"Stop_id\",\n      \"properties\": {\n        \"dtype\": \"number\",\n        \"std\": 0,\n        \"min\": 10033,\n        \"max\": 10033,\n        \"num_unique_values\": 1,\n        \"samples\": [\n          10033\n        ],\n        \"semantic_type\": \"\",\n        \"description\": \"\"\n      }\n    },\n    {\n      \"column\": \"Bus_id\",\n      \"properties\": {\n        \"dtype\": \"number\",\n        \"std\": 1246,\n        \"min\": 41343,\n        \"max\": 45917,\n        \"num_unique_values\": 69,\n        \"samples\": [\n          44066\n        ],\n        \"semantic_type\": \"\",\n        \"description\": \"\"\n      }\n    },\n    {\n      \"column\": \"Line_id\",\n      \"properties\": {\n        \"dtype\": \"number\",\n        \"std\": 0,\n        \"min\": 1,\n        \"max\": 1,\n        \"num_unique_values\": 1,\n        \"samples\": [\n          1\n        ],\n        \"semantic_type\": \"\",\n        \"description\": \"\"\n      }\n    },\n    {\n      \"column\": \"Arrival_delay\",\n      \"properties\": {\n        \"dtype\": \"number\",\n        \"std\": 181,\n        \"min\": -72,\n        \"max\": 1365,\n        \"num_unique_values\": 627,\n        \"samples\": [\n          389\n        ],\n        \"semantic_type\": \"\",\n        \"description\": \"\"\n      }\n    },\n    {\n      \"column\": \"Dwell_time\",\n      \"properties\": {\n        \"dtype\": \"number\",\n        \"std\": 14,\n        \"min\": 0,\n        \"max\": 132,\n        \"num_unique_values\": 87,\n        \"samples\": [\n          74\n        ],\n        \"semantic_type\": \"\",\n        \"description\": \"\"\n      }\n    },\n    {\n      \"column\": \"Scheduled_travel_time\",\n      \"properties\": {\n        \"dtype\": \"number\",\n        \"std\": 7,\n        \"min\": 39,\n        \"max\": 103,\n        \"num_unique_values\": 7,\n        \"samples\": [\n          39\n        ],\n        \"semantic_type\": \"\",\n        \"description\": \"\"\n      }\n    },\n    {\n      \"column\": \"Upstream_stop_delay\",\n      \"properties\": {\n        \"dtype\": \"number\",\n        \"std\": 177,\n        \"min\": -82,\n        \"max\": 1364,\n        \"num_unique_values\": 615,\n        \"samples\": [\n          168\n        ],\n        \"semantic_type\": \"\",\n        \"description\": \"\"\n      }\n    },\n    {\n      \"column\": \"Recurrent_delay\",\n      \"properties\": {\n        \"dtype\": \"number\",\n        \"std\": 6.51743712459172,\n        \"min\": 27.60526316,\n        \"max\": 54.49264706,\n        \"num_unique_values\": 2141,\n        \"samples\": [\n          54.22981366\n        ],\n        \"semantic_type\": \"\",\n        \"description\": \"\"\n      }\n    }\n  ]\n}"
            }
          },
          "metadata": {},
          "execution_count": 1
        }
      ]
    },
    {
      "cell_type": "code",
      "source": [
        "#code from tutorial\n",
        "#use 1000 records, the first 1000\n",
        "df = df.iloc[:1000]\n",
        "#use 1000 random samples\n",
        "df = df.sample(1000)"
      ],
      "metadata": {
        "id": "XbuexMzQ4Ja4"
      },
      "execution_count": 2,
      "outputs": []
    },
    {
      "cell_type": "markdown",
      "source": [
        "removing the data that is not nummbers"
      ],
      "metadata": {
        "id": "dCCxWlQr-dUq"
      }
    },
    {
      "cell_type": "code",
      "source": [
        "#code from tutorial\n",
        "df = df.drop(['Arrival_time','Stop_id','Bus_id','Line_id'], axis=1)"
      ],
      "metadata": {
        "id": "2QN-cgSD8Ng-"
      },
      "execution_count": 3,
      "outputs": []
    },
    {
      "cell_type": "code",
      "source": [
        "#code from tutorial\n",
        "corr_matrix = df.corr()\n",
        "corr_matrix['Arrival_delay'].sort_values(ascending=False)"
      ],
      "metadata": {
        "colab": {
          "base_uri": "https://localhost:8080/",
          "height": 241
        },
        "id": "OQrCX3hk5JHx",
        "outputId": "b96153b0-82ee-4503-85fc-6e6233721756"
      },
      "execution_count": 4,
      "outputs": [
        {
          "output_type": "execute_result",
          "data": {
            "text/plain": [
              "Arrival_delay            1.000000\n",
              "Upstream_stop_delay      0.993908\n",
              "Dwell_time               0.222777\n",
              "Recurrent_delay          0.161830\n",
              "Scheduled_travel_time    0.117362\n",
              "Name: Arrival_delay, dtype: float64"
            ],
            "text/html": [
              "<div>\n",
              "<style scoped>\n",
              "    .dataframe tbody tr th:only-of-type {\n",
              "        vertical-align: middle;\n",
              "    }\n",
              "\n",
              "    .dataframe tbody tr th {\n",
              "        vertical-align: top;\n",
              "    }\n",
              "\n",
              "    .dataframe thead th {\n",
              "        text-align: right;\n",
              "    }\n",
              "</style>\n",
              "<table border=\"1\" class=\"dataframe\">\n",
              "  <thead>\n",
              "    <tr style=\"text-align: right;\">\n",
              "      <th></th>\n",
              "      <th>Arrival_delay</th>\n",
              "    </tr>\n",
              "  </thead>\n",
              "  <tbody>\n",
              "    <tr>\n",
              "      <th>Arrival_delay</th>\n",
              "      <td>1.000000</td>\n",
              "    </tr>\n",
              "    <tr>\n",
              "      <th>Upstream_stop_delay</th>\n",
              "      <td>0.993908</td>\n",
              "    </tr>\n",
              "    <tr>\n",
              "      <th>Dwell_time</th>\n",
              "      <td>0.222777</td>\n",
              "    </tr>\n",
              "    <tr>\n",
              "      <th>Recurrent_delay</th>\n",
              "      <td>0.161830</td>\n",
              "    </tr>\n",
              "    <tr>\n",
              "      <th>Scheduled_travel_time</th>\n",
              "      <td>0.117362</td>\n",
              "    </tr>\n",
              "  </tbody>\n",
              "</table>\n",
              "</div><br><label><b>dtype:</b> float64</label>"
            ]
          },
          "metadata": {},
          "execution_count": 4
        }
      ]
    },
    {
      "cell_type": "code",
      "source": [
        "#code from tutorial\n",
        "\n",
        "#Y is the one that we want to predict\n",
        "#x is the variaables that explains what Y will be\n",
        "x = df.drop(['Arrival_delay'], axis=1)\n",
        "y = df['Arrival_delay']\n",
        "\n",
        "#sns.pairplot(x)"
      ],
      "metadata": {
        "id": "Xn76UNmY-kRv"
      },
      "execution_count": 5,
      "outputs": []
    },
    {
      "cell_type": "markdown",
      "source": [
        "**Train test split**<br>\n",
        "splitting the data into training set and test set is important. We train the model with the traing data and then use the test data to test if the model preictions align with the test data. This prevents overfitting, becuse if the model is not still good when adding the test data its overfitted to the training data."
      ],
      "metadata": {
        "id": "uk3rP4YEIK7K"
      }
    },
    {
      "cell_type": "code",
      "source": [
        "#code from tutorial\n",
        "\n",
        "#split the traingin data\n",
        "from sklearn.model_selection import train_test_split\n",
        "X_train, X_test, y_train, y_test = train_test_split(x, y, test_size=0.2, random_state=42)"
      ],
      "metadata": {
        "id": "xbCxlmZZ8x2v"
      },
      "execution_count": 6,
      "outputs": []
    },
    {
      "cell_type": "markdown",
      "source": [
        "**Create a linear regression model with xgboost**\n",
        "\n",
        "Xgboost improvs models performance by combinig many descision trees."
      ],
      "metadata": {
        "id": "gxIOPSU39Yb4"
      }
    },
    {
      "cell_type": "code",
      "source": [
        "#import xgboost and use xgboost to crea linear regression model\n",
        "#https://machinelearningmastery.com/xgboost-for-regression/ xgboost documentation\n",
        "import xgboost as xgb\n",
        "from xgboost import XGBRegressor\n",
        "\n",
        "# Creation of XGBoost Regression model\n",
        "model = XGBRegressor()\n",
        "\n",
        "# Fit the model to the training data\n",
        "model.fit(X_train, y_train)\n",
        "\n",
        "# Predict the test data with the fitted model\n",
        "y_pred = model.predict(X_test)\n"
      ],
      "metadata": {
        "id": "RA018zTdBq-I"
      },
      "execution_count": 7,
      "outputs": []
    },
    {
      "cell_type": "markdown",
      "source": [
        "**Evaluate model**"
      ],
      "metadata": {
        "id": "OkmsgJpI7Fl8"
      }
    },
    {
      "cell_type": "code",
      "source": [
        "#Using Mean Absolute Error (MAE), Mean Squared Error (MSE) and R-squared (R2) to evaluate model.\n",
        "\n",
        "#code from tutorial\n",
        "from sklearn.metrics import mean_absolute_error, mean_squared_error, r2_score\n",
        "\n",
        "mae = mean_absolute_error(y_test, y_pred)\n",
        "mse = mean_squared_error(y_test, y_pred)\n",
        "r2 = r2_score(y_test, y_pred)\n",
        "\n",
        "print(f\"Mean Absolute Error: {mae}\")\n",
        "print(f\"Mean Squared Error: {mse}\")\n",
        "print(f\"R-squared: {r2}\")"
      ],
      "metadata": {
        "colab": {
          "base_uri": "https://localhost:8080/"
        },
        "id": "YY1PL_Lj9vVP",
        "outputId": "f59068d9-7d02-4594-fba4-48aaaea352cb"
      },
      "execution_count": 8,
      "outputs": [
        {
          "output_type": "stream",
          "name": "stdout",
          "text": [
            "Mean Absolute Error: 12.182528982162475\n",
            "Mean Squared Error: 313.1015038930177\n",
            "R-squared: 0.9864081025320842\n"
          ]
        }
      ]
    },
    {
      "cell_type": "markdown",
      "source": [
        "The linear regression model in the tutotrial that did not use xg boost gave these metrics when evaluted:<br>\n",
        "Mean Absolute Error: 9.317455886234555<br>\n",
        "Mean Squared Error: 214.23167117392123<br>\n",
        "R-squared: 0.9940113647235588<br><br>\n",
        "\n",
        "when evaluating the regression model with XG boost and without XG boost you can notice that the **moedl without xg boost** actually is better preforming.<br> The lower MAE value shows that the predictions on average are closer to the actual values.<br> The lower MSE shows that the model has fewer large errors.<br> The R2 value is somewhat higher, wich shows that the model fits the data a tad bit more, it shows that dependent variables variance is described by the model. How ever the difference in R2 is very small, so they are basically the same. Sometimes to high R2 can indicate overfitting, this might be a problem.<br><br>\n",
        "\n",
        "However, after doing some AI model training, the comparsion between using XG boost and not using XG boost might be different, lets find out and see.\n",
        "\n",
        "\n"
      ],
      "metadata": {
        "id": "I6ROnzPs8h5O"
      }
    },
    {
      "cell_type": "markdown",
      "source": [
        "**Visualize result**\n",
        "(comparing actual results with predicted results)"
      ],
      "metadata": {
        "id": "RmJyIFy1AKc5"
      }
    },
    {
      "cell_type": "code",
      "source": [
        "#code from tutorial\n",
        "import matplotlib.pyplot as plt\n",
        "\n",
        "# y_test contains the actual target values for the test dataset\n",
        "# y_pred contains the predicted values for the test dataset\n",
        "\n",
        "# Create a scatter plot to visualize the relationship\n",
        "plt.figure(figsize=(8, 6))\n",
        "plt.scatter(y_test, y_pred, alpha=0.5)  # Plot actual vs. predicted values\n",
        "\n",
        "# Add labels and title\n",
        "plt.xlabel(\"Actual Values\")\n",
        "plt.ylabel(\"Predicted Values\")\n",
        "plt.title(\"Actual vs. Predicted Values\")\n",
        "\n",
        "# Add a diagonal line for reference (perfect predictions)\n",
        "plt.plot([min(y_test), max(y_test)], [min(y_test), max(y_test)], linestyle='--', color='red', lw=2)\n",
        "\n",
        "# Show the plot\n",
        "plt.show()"
      ],
      "metadata": {
        "colab": {
          "base_uri": "https://localhost:8080/",
          "height": 564
        },
        "id": "DjbfWnd_9xEP",
        "outputId": "53aecb0c-a3d8-459c-8284-f9f41cf346b0"
      },
      "execution_count": 9,
      "outputs": [
        {
          "output_type": "display_data",
          "data": {
            "text/plain": [
              "<Figure size 800x600 with 1 Axes>"
            ],
            "image/png": "[encoded data removed]"
          },
          "metadata": {}
        }
      ]
    },
    {
      "cell_type": "markdown",
      "source": [
        "Visualy the results seems quiet good, the predicitons are in a straight line, if the predictions would have a lot of turns and twists it could potentially indicate overfitting. however there are some larger errors.\n"
      ],
      "metadata": {
        "id": "A1pKq2vsSh85"
      }
    },
    {
      "cell_type": "markdown",
      "source": [
        "##AI model trainin\n",
        "Now it is time to train the model with AI model training techniques (Support Vector Machine), this is done to find the best hyperparameters for the model."
      ],
      "metadata": {
        "id": "G7D25lUjZKFV"
      }
    },
    {
      "cell_type": "markdown",
      "source": [
        "**Normalization**<br>\n",
        "I do this to make sure that all the feutures i.e input variabels are on the same scale. This is important so that for instance one variable do not affect the model disproporitonally."
      ],
      "metadata": {
        "id": "tqWITEQRSRmP"
      }
    },
    {
      "cell_type": "code",
      "source": [
        "#code from tutorial\n",
        "\n",
        "from sklearn.preprocessing import StandardScaler\n",
        "\n",
        "# Normalize the features\n",
        "scaler = StandardScaler()\n",
        "X_train_scaled = scaler.fit_transform(X_train)\n",
        "X_test_scaled = scaler.transform(X_test)"
      ],
      "metadata": {
        "id": "1bjmKJOYAbWh"
      },
      "execution_count": 10,
      "outputs": []
    },
    {
      "cell_type": "markdown",
      "source": [
        "**Grid search**<br>\n",
        "this is done to find the best hyperparemters for the svm. It does this true testing diferernt combinations of the parameters to see wich works the best. It is benificial that the normalization is done before the grid search becuse otherwise some variable might have a unproportional effect on the model."
      ],
      "metadata": {
        "id": "rNPCVbl1SgAT"
      }
    },
    {
      "cell_type": "code",
      "source": [
        "#code from tutorial\n",
        "\n",
        "from sklearn.model_selection import GridSearchCV\n",
        "from sklearn.svm import SVR\n",
        "\n",
        "# Define a parameter grid for hyperparameter tuning\n",
        "param_grid = {\n",
        "    'kernel': ['linear', 'poly', 'rbf'],\n",
        "    'C': [0.1, 1, 10],\n",
        "    'epsilon': [0.01, 0.1, 1, 10]\n",
        "}\n",
        "\n",
        "# Create the GridSearchCV object\n",
        "grid_search = GridSearchCV(SVR(), param_grid, cv=5, verbose=2)\n",
        "\n",
        "# Fit the grid search to the scaled training data\n",
        "grid_search.fit(X_train_scaled, y_train)\n",
        "\n",
        "# Get the best parameters\n",
        "best_params = grid_search.best_params_\n",
        "\n",
        "print(\"Best Parameters:\", best_params)\n",
        "print(\"Best Score:\", grid_search.best_score_)"
      ],
      "metadata": {
        "colab": {
          "base_uri": "https://localhost:8080/"
        },
        "id": "ptaQz5pmSpK4",
        "outputId": "3ce602fa-3b52-4cd8-90f6-a98cb0f9620d"
      },
      "execution_count": 11,
      "outputs": [
        {
          "output_type": "stream",
          "name": "stdout",
          "text": [
            "Fitting 5 folds for each of 36 candidates, totalling 180 fits\n",
            "[CV] END .................C=0.1, epsilon=0.01, kernel=linear; total time=   0.0s\n",
            "[CV] END .................C=0.1, epsilon=0.01, kernel=linear; total time=   0.1s\n",
            "[CV] END .................C=0.1, epsilon=0.01, kernel=linear; total time=   0.0s\n",
            "[CV] END .................C=0.1, epsilon=0.01, kernel=linear; total time=   0.0s\n",
            "[CV] END .................C=0.1, epsilon=0.01, kernel=linear; total time=   0.1s\n",
            "[CV] END ...................C=0.1, epsilon=0.01, kernel=poly; total time=   0.1s\n",
            "[CV] END ...................C=0.1, epsilon=0.01, kernel=poly; total time=   0.1s\n",
            "[CV] END ...................C=0.1, epsilon=0.01, kernel=poly; total time=   0.1s\n",
            "[CV] END ...................C=0.1, epsilon=0.01, kernel=poly; total time=   0.0s\n",
            "[CV] END ...................C=0.1, epsilon=0.01, kernel=poly; total time=   0.0s\n",
            "[CV] END ....................C=0.1, epsilon=0.01, kernel=rbf; total time=   0.0s\n",
            "[CV] END ....................C=0.1, epsilon=0.01, kernel=rbf; total time=   0.1s\n",
            "[CV] END ....................C=0.1, epsilon=0.01, kernel=rbf; total time=   0.2s\n",
            "[CV] END ....................C=0.1, epsilon=0.01, kernel=rbf; total time=   0.1s\n",
            "[CV] END ....................C=0.1, epsilon=0.01, kernel=rbf; total time=   0.1s\n",
            "[CV] END ..................C=0.1, epsilon=0.1, kernel=linear; total time=   0.1s\n",
            "[CV] END ..................C=0.1, epsilon=0.1, kernel=linear; total time=   0.1s\n",
            "[CV] END ..................C=0.1, epsilon=0.1, kernel=linear; total time=   0.1s\n",
            "[CV] END ..................C=0.1, epsilon=0.1, kernel=linear; total time=   0.1s\n",
            "[CV] END ..................C=0.1, epsilon=0.1, kernel=linear; total time=   0.1s\n",
            "[CV] END ....................C=0.1, epsilon=0.1, kernel=poly; total time=   0.1s\n",
            "[CV] END ....................C=0.1, epsilon=0.1, kernel=poly; total time=   0.1s\n",
            "[CV] END ....................C=0.1, epsilon=0.1, kernel=poly; total time=   0.1s\n",
            "[CV] END ....................C=0.1, epsilon=0.1, kernel=poly; total time=   0.1s\n",
            "[CV] END ....................C=0.1, epsilon=0.1, kernel=poly; total time=   0.1s\n",
            "[CV] END .....................C=0.1, epsilon=0.1, kernel=rbf; total time=   0.3s\n",
            "[CV] END .....................C=0.1, epsilon=0.1, kernel=rbf; total time=   0.1s\n",
            "[CV] END .....................C=0.1, epsilon=0.1, kernel=rbf; total time=   0.1s\n",
            "[CV] END .....................C=0.1, epsilon=0.1, kernel=rbf; total time=   0.1s\n",
            "[CV] END .....................C=0.1, epsilon=0.1, kernel=rbf; total time=   0.1s\n",
            "[CV] END ....................C=0.1, epsilon=1, kernel=linear; total time=   0.1s\n",
            "[CV] END ....................C=0.1, epsilon=1, kernel=linear; total time=   0.1s\n",
            "[CV] END ....................C=0.1, epsilon=1, kernel=linear; total time=   0.1s\n",
            "[CV] END ....................C=0.1, epsilon=1, kernel=linear; total time=   0.1s\n",
            "[CV] END ....................C=0.1, epsilon=1, kernel=linear; total time=   0.1s\n",
            "[CV] END ......................C=0.1, epsilon=1, kernel=poly; total time=   0.1s\n",
            "[CV] END ......................C=0.1, epsilon=1, kernel=poly; total time=   0.1s\n",
            "[CV] END ......................C=0.1, epsilon=1, kernel=poly; total time=   0.1s\n",
            "[CV] END ......................C=0.1, epsilon=1, kernel=poly; total time=   0.1s\n",
            "[CV] END ......................C=0.1, epsilon=1, kernel=poly; total time=   0.1s\n",
            "[CV] END .......................C=0.1, epsilon=1, kernel=rbf; total time=   0.2s\n",
            "[CV] END .......................C=0.1, epsilon=1, kernel=rbf; total time=   0.1s\n",
            "[CV] END .......................C=0.1, epsilon=1, kernel=rbf; total time=   0.1s\n",
            "[CV] END .......................C=0.1, epsilon=1, kernel=rbf; total time=   0.2s\n",
            "[CV] END .......................C=0.1, epsilon=1, kernel=rbf; total time=   0.2s\n",
            "[CV] END ...................C=0.1, epsilon=10, kernel=linear; total time=   0.1s\n",
            "[CV] END ...................C=0.1, epsilon=10, kernel=linear; total time=   0.1s\n",
            "[CV] END ...................C=0.1, epsilon=10, kernel=linear; total time=   0.1s\n",
            "[CV] END ...................C=0.1, epsilon=10, kernel=linear; total time=   0.1s\n",
            "[CV] END ...................C=0.1, epsilon=10, kernel=linear; total time=   0.0s\n",
            "[CV] END .....................C=0.1, epsilon=10, kernel=poly; total time=   0.0s\n",
            "[CV] END .....................C=0.1, epsilon=10, kernel=poly; total time=   0.0s\n",
            "[CV] END .....................C=0.1, epsilon=10, kernel=poly; total time=   0.1s\n",
            "[CV] END .....................C=0.1, epsilon=10, kernel=poly; total time=   0.1s\n",
            "[CV] END .....................C=0.1, epsilon=10, kernel=poly; total time=   0.1s\n",
            "[CV] END ......................C=0.1, epsilon=10, kernel=rbf; total time=   0.1s\n",
            "[CV] END ......................C=0.1, epsilon=10, kernel=rbf; total time=   0.2s\n",
            "[CV] END ......................C=0.1, epsilon=10, kernel=rbf; total time=   0.1s\n",
            "[CV] END ......................C=0.1, epsilon=10, kernel=rbf; total time=   0.1s\n",
            "[CV] END ......................C=0.1, epsilon=10, kernel=rbf; total time=   0.1s\n",
            "[CV] END ...................C=1, epsilon=0.01, kernel=linear; total time=   0.1s\n",
            "[CV] END ...................C=1, epsilon=0.01, kernel=linear; total time=   0.1s\n",
            "[CV] END ...................C=1, epsilon=0.01, kernel=linear; total time=   0.1s\n",
            "[CV] END ...................C=1, epsilon=0.01, kernel=linear; total time=   0.1s\n",
            "[CV] END ...................C=1, epsilon=0.01, kernel=linear; total time=   0.1s\n",
            "[CV] END .....................C=1, epsilon=0.01, kernel=poly; total time=   0.1s\n",
            "[CV] END .....................C=1, epsilon=0.01, kernel=poly; total time=   0.1s\n",
            "[CV] END .....................C=1, epsilon=0.01, kernel=poly; total time=   0.1s\n",
            "[CV] END .....................C=1, epsilon=0.01, kernel=poly; total time=   0.1s\n",
            "[CV] END .....................C=1, epsilon=0.01, kernel=poly; total time=   0.1s\n",
            "[CV] END ......................C=1, epsilon=0.01, kernel=rbf; total time=   0.1s\n",
            "[CV] END ......................C=1, epsilon=0.01, kernel=rbf; total time=   0.1s\n",
            "[CV] END ......................C=1, epsilon=0.01, kernel=rbf; total time=   0.1s\n",
            "[CV] END ......................C=1, epsilon=0.01, kernel=rbf; total time=   0.0s\n",
            "[CV] END ......................C=1, epsilon=0.01, kernel=rbf; total time=   0.1s\n",
            "[CV] END ....................C=1, epsilon=0.1, kernel=linear; total time=   0.1s\n",
            "[CV] END ....................C=1, epsilon=0.1, kernel=linear; total time=   0.0s\n",
            "[CV] END ....................C=1, epsilon=0.1, kernel=linear; total time=   0.1s\n",
            "[CV] END ....................C=1, epsilon=0.1, kernel=linear; total time=   0.1s\n",
            "[CV] END ....................C=1, epsilon=0.1, kernel=linear; total time=   0.1s\n",
            "[CV] END ......................C=1, epsilon=0.1, kernel=poly; total time=   0.0s\n",
            "[CV] END ......................C=1, epsilon=0.1, kernel=poly; total time=   0.1s\n",
            "[CV] END ......................C=1, epsilon=0.1, kernel=poly; total time=   0.1s\n",
            "[CV] END ......................C=1, epsilon=0.1, kernel=poly; total time=   0.1s\n",
            "[CV] END ......................C=1, epsilon=0.1, kernel=poly; total time=   0.1s\n",
            "[CV] END .......................C=1, epsilon=0.1, kernel=rbf; total time=   0.1s\n",
            "[CV] END .......................C=1, epsilon=0.1, kernel=rbf; total time=   0.2s\n",
            "[CV] END .......................C=1, epsilon=0.1, kernel=rbf; total time=   0.1s\n",
            "[CV] END .......................C=1, epsilon=0.1, kernel=rbf; total time=   0.1s\n",
            "[CV] END .......................C=1, epsilon=0.1, kernel=rbf; total time=   0.1s\n",
            "[CV] END ......................C=1, epsilon=1, kernel=linear; total time=   0.1s\n",
            "[CV] END ......................C=1, epsilon=1, kernel=linear; total time=   0.1s\n",
            "[CV] END ......................C=1, epsilon=1, kernel=linear; total time=   0.1s\n",
            "[CV] END ......................C=1, epsilon=1, kernel=linear; total time=   0.1s\n",
            "[CV] END ......................C=1, epsilon=1, kernel=linear; total time=   0.1s\n",
            "[CV] END ........................C=1, epsilon=1, kernel=poly; total time=   0.1s\n",
            "[CV] END ........................C=1, epsilon=1, kernel=poly; total time=   0.1s\n",
            "[CV] END ........................C=1, epsilon=1, kernel=poly; total time=   0.1s\n",
            "[CV] END ........................C=1, epsilon=1, kernel=poly; total time=   0.0s\n",
            "[CV] END ........................C=1, epsilon=1, kernel=poly; total time=   0.1s\n",
            "[CV] END .........................C=1, epsilon=1, kernel=rbf; total time=   0.2s\n",
            "[CV] END .........................C=1, epsilon=1, kernel=rbf; total time=   0.1s\n",
            "[CV] END .........................C=1, epsilon=1, kernel=rbf; total time=   0.1s\n",
            "[CV] END .........................C=1, epsilon=1, kernel=rbf; total time=   0.1s\n",
            "[CV] END .........................C=1, epsilon=1, kernel=rbf; total time=   0.1s\n",
            "[CV] END .....................C=1, epsilon=10, kernel=linear; total time=   0.1s\n",
            "[CV] END .....................C=1, epsilon=10, kernel=linear; total time=   0.0s\n",
            "[CV] END .....................C=1, epsilon=10, kernel=linear; total time=   0.0s\n",
            "[CV] END .....................C=1, epsilon=10, kernel=linear; total time=   0.0s\n",
            "[CV] END .....................C=1, epsilon=10, kernel=linear; total time=   0.0s\n",
            "[CV] END .......................C=1, epsilon=10, kernel=poly; total time=   0.1s\n",
            "[CV] END .......................C=1, epsilon=10, kernel=poly; total time=   0.2s\n",
            "[CV] END .......................C=1, epsilon=10, kernel=poly; total time=   0.1s\n",
            "[CV] END .......................C=1, epsilon=10, kernel=poly; total time=   0.1s\n",
            "[CV] END .......................C=1, epsilon=10, kernel=poly; total time=   0.1s\n",
            "[CV] END ........................C=1, epsilon=10, kernel=rbf; total time=   0.1s\n",
            "[CV] END ........................C=1, epsilon=10, kernel=rbf; total time=   0.1s\n",
            "[CV] END ........................C=1, epsilon=10, kernel=rbf; total time=   0.1s\n",
            "[CV] END ........................C=1, epsilon=10, kernel=rbf; total time=   0.2s\n",
            "[CV] END ........................C=1, epsilon=10, kernel=rbf; total time=   0.1s\n",
            "[CV] END ..................C=10, epsilon=0.01, kernel=linear; total time=   0.2s\n",
            "[CV] END ..................C=10, epsilon=0.01, kernel=linear; total time=   0.1s\n",
            "[CV] END ..................C=10, epsilon=0.01, kernel=linear; total time=   0.2s\n",
            "[CV] END ..................C=10, epsilon=0.01, kernel=linear; total time=   0.2s\n",
            "[CV] END ..................C=10, epsilon=0.01, kernel=linear; total time=   0.1s\n",
            "[CV] END ....................C=10, epsilon=0.01, kernel=poly; total time=   0.1s\n",
            "[CV] END ....................C=10, epsilon=0.01, kernel=poly; total time=   0.1s\n",
            "[CV] END ....................C=10, epsilon=0.01, kernel=poly; total time=   0.1s\n",
            "[CV] END ....................C=10, epsilon=0.01, kernel=poly; total time=   0.1s\n",
            "[CV] END ....................C=10, epsilon=0.01, kernel=poly; total time=   0.1s\n",
            "[CV] END .....................C=10, epsilon=0.01, kernel=rbf; total time=   0.2s\n",
            "[CV] END .....................C=10, epsilon=0.01, kernel=rbf; total time=   0.1s\n",
            "[CV] END .....................C=10, epsilon=0.01, kernel=rbf; total time=   0.1s\n",
            "[CV] END .....................C=10, epsilon=0.01, kernel=rbf; total time=   0.1s\n",
            "[CV] END .....................C=10, epsilon=0.01, kernel=rbf; total time=   0.1s\n",
            "[CV] END ...................C=10, epsilon=0.1, kernel=linear; total time=   0.1s\n",
            "[CV] END ...................C=10, epsilon=0.1, kernel=linear; total time=   0.1s\n",
            "[CV] END ...................C=10, epsilon=0.1, kernel=linear; total time=   0.1s\n",
            "[CV] END ...................C=10, epsilon=0.1, kernel=linear; total time=   0.2s\n",
            "[CV] END ...................C=10, epsilon=0.1, kernel=linear; total time=   0.1s\n",
            "[CV] END .....................C=10, epsilon=0.1, kernel=poly; total time=   0.1s\n",
            "[CV] END .....................C=10, epsilon=0.1, kernel=poly; total time=   0.1s\n",
            "[CV] END .....................C=10, epsilon=0.1, kernel=poly; total time=   0.1s\n",
            "[CV] END .....................C=10, epsilon=0.1, kernel=poly; total time=   0.1s\n",
            "[CV] END .....................C=10, epsilon=0.1, kernel=poly; total time=   0.1s\n",
            "[CV] END ......................C=10, epsilon=0.1, kernel=rbf; total time=   0.1s\n",
            "[CV] END ......................C=10, epsilon=0.1, kernel=rbf; total time=   0.1s\n",
            "[CV] END ......................C=10, epsilon=0.1, kernel=rbf; total time=   0.1s\n",
            "[CV] END ......................C=10, epsilon=0.1, kernel=rbf; total time=   0.1s\n",
            "[CV] END ......................C=10, epsilon=0.1, kernel=rbf; total time=   0.3s\n",
            "[CV] END .....................C=10, epsilon=1, kernel=linear; total time=   0.1s\n",
            "[CV] END .....................C=10, epsilon=1, kernel=linear; total time=   0.1s\n",
            "[CV] END .....................C=10, epsilon=1, kernel=linear; total time=   0.1s\n",
            "[CV] END .....................C=10, epsilon=1, kernel=linear; total time=   0.1s\n",
            "[CV] END .....................C=10, epsilon=1, kernel=linear; total time=   0.1s\n",
            "[CV] END .......................C=10, epsilon=1, kernel=poly; total time=   0.1s\n",
            "[CV] END .......................C=10, epsilon=1, kernel=poly; total time=   0.0s\n",
            "[CV] END .......................C=10, epsilon=1, kernel=poly; total time=   0.1s\n",
            "[CV] END .......................C=10, epsilon=1, kernel=poly; total time=   0.1s\n",
            "[CV] END .......................C=10, epsilon=1, kernel=poly; total time=   0.1s\n",
            "[CV] END ........................C=10, epsilon=1, kernel=rbf; total time=   0.0s\n",
            "[CV] END ........................C=10, epsilon=1, kernel=rbf; total time=   0.1s\n",
            "[CV] END ........................C=10, epsilon=1, kernel=rbf; total time=   0.1s\n",
            "[CV] END ........................C=10, epsilon=1, kernel=rbf; total time=   0.1s\n",
            "[CV] END ........................C=10, epsilon=1, kernel=rbf; total time=   0.1s\n",
            "[CV] END ....................C=10, epsilon=10, kernel=linear; total time=   0.1s\n",
            "[CV] END ....................C=10, epsilon=10, kernel=linear; total time=   0.1s\n",
            "[CV] END ....................C=10, epsilon=10, kernel=linear; total time=   0.1s\n",
            "[CV] END ....................C=10, epsilon=10, kernel=linear; total time=   0.1s\n",
            "[CV] END ....................C=10, epsilon=10, kernel=linear; total time=   0.1s\n",
            "[CV] END ......................C=10, epsilon=10, kernel=poly; total time=   0.1s\n",
            "[CV] END ......................C=10, epsilon=10, kernel=poly; total time=   0.1s\n",
            "[CV] END ......................C=10, epsilon=10, kernel=poly; total time=   0.1s\n",
            "[CV] END ......................C=10, epsilon=10, kernel=poly; total time=   0.1s\n",
            "[CV] END ......................C=10, epsilon=10, kernel=poly; total time=   0.1s\n",
            "[CV] END .......................C=10, epsilon=10, kernel=rbf; total time=   0.0s\n",
            "[CV] END .......................C=10, epsilon=10, kernel=rbf; total time=   0.0s\n",
            "[CV] END .......................C=10, epsilon=10, kernel=rbf; total time=   0.0s\n",
            "[CV] END .......................C=10, epsilon=10, kernel=rbf; total time=   0.1s\n",
            "[CV] END .......................C=10, epsilon=10, kernel=rbf; total time=   0.1s\n",
            "Best Parameters: {'C': 10, 'epsilon': 10, 'kernel': 'linear'}\n",
            "Best Score: 0.9944272508047511\n"
          ]
        }
      ]
    },
    {
      "cell_type": "markdown",
      "source": [
        "förklara"
      ],
      "metadata": {
        "id": "JnMxqO_4TF6x"
      }
    },
    {
      "cell_type": "markdown",
      "source": [
        "Create a SVM regression model using the best parameters that where generated thru the AI training and train the model using the training data."
      ],
      "metadata": {
        "id": "-cv8fqlsWqaX"
      }
    },
    {
      "cell_type": "code",
      "source": [
        "#code from tutorial\n",
        "\n",
        "# Create an SVR model with the best parameters from the grid search\n",
        "best_svr = SVR(kernel=best_params['kernel'], C=best_params['C'], epsilon=best_params['epsilon'])\n",
        "best_svr.fit(X_train, y_train)"
      ],
      "metadata": {
        "colab": {
          "base_uri": "https://localhost:8080/",
          "height": 74
        },
        "id": "GTtLznrHTHRW",
        "outputId": "72e18a9c-fae5-44d0-a71e-0eeb73e90504"
      },
      "execution_count": 12,
      "outputs": [
        {
          "output_type": "execute_result",
          "data": {
            "text/plain": [
              "SVR(C=10, epsilon=10, kernel='linear')"
            ],
            "text/html": [
              "<style>#sk-container-id-1 {color: black;}#sk-container-id-1 pre{padding: 0;}#sk-container-id-1 div.sk-toggleable {background-color: white;}#sk-container-id-1 label.sk-toggleable__label {cursor: pointer;display: block;width: 100%;margin-bottom: 0;padding: 0.3em;box-sizing: border-box;text-align: center;}#sk-container-id-1 label.sk-toggleable__label-arrow:before {content: \"▸\";float: left;margin-right: 0.25em;color: #696969;}#sk-container-id-1 label.sk-toggleable__label-arrow:hover:before {color: black;}#sk-container-id-1 div.sk-estimator:hover label.sk-toggleable__label-arrow:before {color: black;}#sk-container-id-1 div.sk-toggleable__content {max-height: 0;max-width: 0;overflow: hidden;text-align: left;background-color: #f0f8ff;}#sk-container-id-1 div.sk-toggleable__content pre {margin: 0.2em;color: black;border-radius: 0.25em;background-color: #f0f8ff;}#sk-container-id-1 input.sk-toggleable__control:checked~div.sk-toggleable__content {max-height: 200px;max-width: 100%;overflow: auto;}#sk-container-id-1 input.sk-toggleable__control:checked~label.sk-toggleable__label-arrow:before {content: \"▾\";}#sk-container-id-1 div.sk-estimator input.sk-toggleable__control:checked~label.sk-toggleable__label {background-color: #d4ebff;}#sk-container-id-1 div.sk-label input.sk-toggleable__control:checked~label.sk-toggleable__label {background-color: #d4ebff;}#sk-container-id-1 input.sk-hidden--visually {border: 0;clip: rect(1px 1px 1px 1px);clip: rect(1px, 1px, 1px, 1px);height: 1px;margin: -1px;overflow: hidden;padding: 0;position: absolute;width: 1px;}#sk-container-id-1 div.sk-estimator {font-family: monospace;background-color: #f0f8ff;border: 1px dotted black;border-radius: 0.25em;box-sizing: border-box;margin-bottom: 0.5em;}#sk-container-id-1 div.sk-estimator:hover {background-color: #d4ebff;}#sk-container-id-1 div.sk-parallel-item::after {content: \"\";width: 100%;border-bottom: 1px solid gray;flex-grow: 1;}#sk-container-id-1 div.sk-label:hover label.sk-toggleable__label {background-color: #d4ebff;}#sk-container-id-1 div.sk-serial::before {content: \"\";position: absolute;border-left: 1px solid gray;box-sizing: border-box;top: 0;bottom: 0;left: 50%;z-index: 0;}#sk-container-id-1 div.sk-serial {display: flex;flex-direction: column;align-items: center;background-color: white;padding-right: 0.2em;padding-left: 0.2em;position: relative;}#sk-container-id-1 div.sk-item {position: relative;z-index: 1;}#sk-container-id-1 div.sk-parallel {display: flex;align-items: stretch;justify-content: center;background-color: white;position: relative;}#sk-container-id-1 div.sk-item::before, #sk-container-id-1 div.sk-parallel-item::before {content: \"\";position: absolute;border-left: 1px solid gray;box-sizing: border-box;top: 0;bottom: 0;left: 50%;z-index: -1;}#sk-container-id-1 div.sk-parallel-item {display: flex;flex-direction: column;z-index: 1;position: relative;background-color: white;}#sk-container-id-1 div.sk-parallel-item:first-child::after {align-self: flex-end;width: 50%;}#sk-container-id-1 div.sk-parallel-item:last-child::after {align-self: flex-start;width: 50%;}#sk-container-id-1 div.sk-parallel-item:only-child::after {width: 0;}#sk-container-id-1 div.sk-dashed-wrapped {border: 1px dashed gray;margin: 0 0.4em 0.5em 0.4em;box-sizing: border-box;padding-bottom: 0.4em;background-color: white;}#sk-container-id-1 div.sk-label label {font-family: monospace;font-weight: bold;display: inline-block;line-height: 1.2em;}#sk-container-id-1 div.sk-label-container {text-align: center;}#sk-container-id-1 div.sk-container {/* jupyter's `normalize.less` sets `[hidden] { display: none; }` but bootstrap.min.css set `[hidden] { display: none !important; }` so we also need the `!important` here to be able to override the default hidden behavior on the sphinx rendered scikit-learn.org. See: https://github.com/scikit-learn/scikit-learn/issues/21755 */display: inline-block !important;position: relative;}#sk-container-id-1 div.sk-text-repr-fallback {display: none;}</style><div id=\"sk-container-id-1\" class=\"sk-top-container\"><div class=\"sk-text-repr-fallback\"><pre>SVR(C=10, epsilon=10, kernel=&#x27;linear&#x27;)</pre><b>In a Jupyter environment, please rerun this cell to show the HTML representation or trust the notebook. <br />On GitHub, the HTML representation is unable to render, please try loading this page with nbviewer.org.</b></div><div class=\"sk-container\" hidden><div class=\"sk-item\"><div class=\"sk-estimator sk-toggleable\"><input class=\"sk-toggleable__control sk-hidden--visually\" id=\"sk-estimator-id-1\" type=\"checkbox\" checked><label for=\"sk-estimator-id-1\" class=\"sk-toggleable__label sk-toggleable__label-arrow\">SVR</label><div class=\"sk-toggleable__content\"><pre>SVR(C=10, epsilon=10, kernel=&#x27;linear&#x27;)</pre></div></div></div></div></div>"
            ]
          },
          "metadata": {},
          "execution_count": 12
        }
      ]
    },
    {
      "cell_type": "markdown",
      "source": [
        "Creat prediction with model and evaluate with the same metrics as earlier"
      ],
      "metadata": {
        "id": "AyNy_KXhXq8T"
      }
    },
    {
      "cell_type": "code",
      "source": [
        "#code from tutorial\n",
        "\n",
        "y_pred = best_svr.predict(X_test)\n",
        "mae = mean_absolute_error(y_test, y_pred)\n",
        "mse = mean_squared_error(y_test, y_pred)\n",
        "r2 = r2_score(y_test, y_pred)\n",
        "print(f\"Mean Absolute Error: {mae}\")\n",
        "print(f\"Mean Squared Error: {mse}\")\n",
        "print(f\"R-squared: {r2}\")"
      ],
      "metadata": {
        "colab": {
          "base_uri": "https://localhost:8080/"
        },
        "id": "RmwLhcliSXYt",
        "outputId": "af793485-6699-4445-b8c8-480de4efae07"
      },
      "execution_count": 13,
      "outputs": [
        {
          "output_type": "stream",
          "name": "stdout",
          "text": [
            "Mean Absolute Error: 9.788621059537837\n",
            "Mean Squared Error: 207.70752592360594\n",
            "R-squared: 0.990983309372309\n"
          ]
        }
      ]
    },
    {
      "cell_type": "markdown",
      "source": [
        "Results from tutorial after AI training but without XGboost <br> Mean Absolute Error: 9.465517729822414 <br>\n",
        "Mean Squared Error: 224.3553394017559 <br>\n",
        "R-squared: 0.9937283675535139<br>\n",
        "\n",
        "When evaluating the AI trained regression model with XG boost and without XG boost you can notice that the model with XG boost has a lower MSE, this means that the XG boosted model has fewer large errors. <br>\n",
        "Both had similare MAE and R2. However the model without XG boost´s MAE and R2 are actually indicating that it is a slightly better prefroming model than the one with xg boost.\n",
        "\n",
        "**However** when comparing the AI trained xg boosted regression model with the not AI trained xg boosted regression model there are great differences. The MAE and MSE are a lot lower this shows that the AI trained model predictions on average are closer to the actual values and that the model has fewer large errors. The R2 value is higher wich shows that dependent variables variance is explained even better by the AI trained model.\n"
      ],
      "metadata": {
        "id": "ezpTNdnhYlGb"
      }
    },
    {
      "cell_type": "markdown",
      "source": [
        "Visualize result again (comparing actual results with predicted results)"
      ],
      "metadata": {
        "id": "UFdVEgYZaWo_"
      }
    },
    {
      "cell_type": "code",
      "source": [
        "#code from tutorial\n",
        "\n",
        "# y_test contains the actual target values for the test dataset\n",
        "# y_pred contains the predicted values for the test dataset\n",
        "\n",
        "# Create a scatter plot to visualize the relationship\n",
        "plt.figure(figsize=(8, 6))\n",
        "plt.scatter(y_test, y_pred, alpha=0.5)  # Plot actual vs. predicted values\n",
        "\n",
        "# Add labels and title\n",
        "plt.xlabel(\"Actual Values\")\n",
        "plt.ylabel(\"Predicted Values\")\n",
        "plt.title(\"Actual vs. Predicted Values\")\n",
        "\n",
        "# Add a diagonal line for reference (perfect predictions)\n",
        "plt.plot([min(y_test), max(y_test)], [min(y_test), max(y_test)], linestyle='--', color='red', lw=2)\n",
        "\n",
        "# Show the plot\n",
        "plt.show()"
      ],
      "metadata": {
        "colab": {
          "base_uri": "https://localhost:8080/",
          "height": 564
        },
        "id": "b0gx5oK1YrCu",
        "outputId": "dc86d9d3-0785-436a-8db4-cae0467cea43"
      },
      "execution_count": 14,
      "outputs": [
        {
          "output_type": "display_data",
          "data": {
            "text/plain": [
              "<Figure size 800x600 with 1 Axes>"
            ],
            "image/png": "[encoded data removed]"
          },
          "metadata": {}
        }
      ]
    },
    {
      "cell_type": "markdown",
      "source": [
        "Visually it seems that the model is better after AI training, there are fewer larg errors that can be visually spooted. Also the prediciton model does not visually seem to be overfitted since it goes in a straight line and does not curve a lot to include all the traingi data points."
      ],
      "metadata": {
        "id": "1fIVYEJKpuha"
      }
    }
  ]
}